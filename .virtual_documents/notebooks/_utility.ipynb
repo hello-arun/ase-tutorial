import numpy as np
import matplotlib.pyplot as plt

data=np.loadtxt("./temp2.txt")
plt.plot(data[:,0],data[:,6])
